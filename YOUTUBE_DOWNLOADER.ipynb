{
  "nbformat": 4,
  "nbformat_minor": 0,
  "metadata": {
    "colab": {
      "provenance": [],
      "authorship_tag": "ABX9TyN8O7Z5v2QAK+cJyOLUl+1P",
      "include_colab_link": true
    },
    "kernelspec": {
      "name": "python3",
      "display_name": "Python 3"
    },
    "language_info": {
      "name": "python"
    }
  },
  "cells": [
    {
      "cell_type": "markdown",
      "metadata": {
        "id": "view-in-github",
        "colab_type": "text"
      },
      "source": [
        "<a href=\"https://colab.research.google.com/github/deveshsingh14/Youtube-Video-Downloader/blob/main/YOUTUBE_DOWNLOADER.ipynb\" target=\"_parent\"><img src=\"https://colab.research.google.com/assets/colab-badge.svg\" alt=\"Open In Colab\"/></a>"
      ]
    },
    {
      "cell_type": "code",
      "execution_count": null,
      "metadata": {
        "id": "k2FpHR5aioE3"
      },
      "outputs": [],
      "source": [
        "$ pip install pytube\n",
        "import pytube\n",
        "link= inout('https://youtube.com/shorts/Ng48CnEJyj8?feature=share')\n",
        "yt = pytube.Youtube(link)\n",
        "yt.streams.first().download()\n",
        "print('Downloaded',link)"
      ]
    }
  ]
}